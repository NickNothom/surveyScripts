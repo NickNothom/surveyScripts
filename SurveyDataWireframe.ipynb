{
 "cells": [
  {
   "cell_type": "code",
   "execution_count": null,
   "metadata": {
    "collapsed": true
   },
   "outputs": [],
   "source": [
    "##########################################\n",
    "##          SurveyDataWireframe         ##\n",
    "##########################################\n",
    "\n",
    "#Description\n",
    "#This plots sonar data onto a line which represents how it was collected. "
   ]
  },
  {
   "cell_type": "code",
   "execution_count": 1,
   "metadata": {
    "collapsed": true
   },
   "outputs": [],
   "source": [
    "#This can only be run once for some reason\n",
    "#%matplotlib qt"
   ]
  },
  {
   "cell_type": "code",
   "execution_count": 25,
   "metadata": {
    "collapsed": true
   },
   "outputs": [],
   "source": [
    "#Imports\n",
    "import csv\n",
    "import collections\n",
    "import matplotlib.pyplot as plt\n",
    "from mpl_toolkits.mplot3d.axes3d import Axes3D, get_test_data\n",
    "from matplotlib import cm\n",
    "import numpy as np"
   ]
  },
  {
   "cell_type": "code",
   "execution_count": 26,
   "metadata": {
    "collapsed": false
   },
   "outputs": [],
   "source": [
    "#Set up data format\n",
    "DataPoint = collections.namedtuple('DataPoint', ('lat','lon','depth','confidence'))\n",
    "DataPoints = []"
   ]
  },
  {
   "cell_type": "code",
   "execution_count": 27,
   "metadata": {
    "collapsed": false
   },
   "outputs": [],
   "source": [
    "#Open file and read values\n",
    "with open('sonar_logs/harborSurvey.csv', 'rb') as csvfile:\n",
    "    filereader = csv.reader(csvfile, delimiter=',', quotechar='|')\n",
    "    for row in filereader:\n",
    "        newPoint = DataPoint(lat=row[2], lon=row[3], depth=row[0], confidence=row[1])\n",
    "        DataPoints.append(newPoint)   "
   ]
  },
  {
   "cell_type": "code",
   "execution_count": 28,
   "metadata": {
    "collapsed": false
   },
   "outputs": [
    {
     "data": {
      "text/plain": [
       "DataPoint(lat='lat', lon='lon', depth='distance', confidence='confidence')"
      ]
     },
     "execution_count": 28,
     "metadata": {},
     "output_type": "execute_result"
    }
   ],
   "source": [
    "#Remove the first line (label)\n",
    "DataPoints.pop(0)"
   ]
  },
  {
   "cell_type": "code",
   "execution_count": 31,
   "metadata": {
    "collapsed": false
   },
   "outputs": [],
   "source": [
    "#===============\n",
    "# Plot\n",
    "#===============\n",
    "\n",
    "#Set up axes\n",
    "fig = plt.figure()\n",
    "ax = fig.add_subplot(1, 1, 1, projection='3d')\n",
    "\n",
    "#Data Lists\n",
    "X = []\n",
    "Y = []\n",
    "Z = []\n",
    "\n",
    "#Populate Lists\n",
    "for p in DataPoints:\n",
    "    X.append(float(p.lat))\n",
    "    Y.append(float(p.lon))\n",
    "    Z.append( -1 * float(p.depth))\n",
    "\n",
    "#Create Plot\n",
    "ax.plot_wireframe(X, Y, Z, rstride=10, cstride=10)\n",
    "\n",
    "#Set Style\n",
    "#plt.style.use('ggplot')\n",
    "plt.style.use('dark_background')\n",
    "\n",
    "#Open Window\n",
    "plt.show()"
   ]
  },
  {
   "cell_type": "code",
   "execution_count": null,
   "metadata": {
    "collapsed": true
   },
   "outputs": [],
   "source": []
  }
 ],
 "metadata": {
  "kernelspec": {
   "display_name": "Python 2",
   "language": "python",
   "name": "python2"
  },
  "language_info": {
   "codemirror_mode": {
    "name": "ipython",
    "version": 2
   },
   "file_extension": ".py",
   "mimetype": "text/x-python",
   "name": "python",
   "nbconvert_exporter": "python",
   "pygments_lexer": "ipython2",
   "version": "2.7.6"
  }
 },
 "nbformat": 4,
 "nbformat_minor": 2
}
