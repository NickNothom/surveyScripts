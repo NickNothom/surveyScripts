{
 "cells": [
  {
   "cell_type": "code",
   "execution_count": 6,
   "metadata": {
    "collapsed": false
   },
   "outputs": [],
   "source": [
    "'''\n",
    "====================\n",
    "3D plots as subplots\n",
    "====================\n",
    "\n",
    "#http://matplotlib.org/examples/mplot3d/subplot3d_demo.html\n",
    "\n",
    "Demonstrate including 3D plots as subplots.\n",
    "'''\n",
    "\n",
    "import matplotlib.pyplot as plt\n",
    "from mpl_toolkits.mplot3d.axes3d import Axes3D, get_test_data\n",
    "from matplotlib import cm\n",
    "import numpy as np\n",
    "\n",
    "\n",
    "# set up a figure twice as wide as it is tall\n",
    "fig = plt.figure()\n",
    "\n",
    "# #===============\n",
    "# #  First subplot\n",
    "# #===============\n",
    "# # set up the axes for the first plot\n",
    "# ax = fig.add_subplot(1, 2, 1, projection='3d')\n",
    "\n",
    "# # plot a 3D surface like in the example mplot3d/surface3d_demo\n",
    "# X = np.arange(-5, 5, 0.25)\n",
    "# Y = np.arange(-5, 5, 0.25)\n",
    "# X, Y = np.meshgrid(X, Y)\n",
    "# R = np.sqrt(X**2 + Y**2)\n",
    "# Z = np.sin(R)\n",
    "# surf = ax.plot_surface(X, Y, Z, rstride=1, cstride=1, cmap=cm.coolwarm,\n",
    "#                        linewidth=0, antialiased=False)\n",
    "# ax.set_zlim(-1.01, 1.01)\n",
    "# fig.colorbar(surf, shrink=0.5, aspect=10)\n",
    "\n",
    "#===============\n",
    "# Second subplot\n",
    "#===============\n",
    "# set up the axes for the second plot\n",
    "ax = fig.add_subplot(1, 1, 1, projection='3d')\n",
    "\n",
    "# plot a 3D wireframe like in the example mplot3d/wire3d_demo\n",
    "X, Y, Z = get_test_data(0.05)\n",
    "ax.plot_wireframe(X, Y, Z, rstride=10, cstride=10)\n",
    "\n",
    "plt.show()"
   ]
  },
  {
   "cell_type": "code",
   "execution_count": null,
   "metadata": {
    "collapsed": true
   },
   "outputs": [],
   "source": []
  }
 ],
 "metadata": {
  "kernelspec": {
   "display_name": "Python 2",
   "language": "python",
   "name": "python2"
  },
  "language_info": {
   "codemirror_mode": {
    "name": "ipython",
    "version": 2
   },
   "file_extension": ".py",
   "mimetype": "text/x-python",
   "name": "python",
   "nbconvert_exporter": "python",
   "pygments_lexer": "ipython2",
   "version": "2.7.6"
  }
 },
 "nbformat": 4,
 "nbformat_minor": 2
}
